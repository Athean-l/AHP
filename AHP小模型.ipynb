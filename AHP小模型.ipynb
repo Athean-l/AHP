{
 "cells": [
  {
   "cell_type": "code",
   "execution_count": 1,
   "metadata": {
    "ExecuteTime": {
     "end_time": "2020-09-04T03:06:45.581708Z",
     "start_time": "2020-09-04T03:06:45.565325Z"
    }
   },
   "outputs": [],
   "source": [
    "###########################################\n",
    "# 场景复现，AHP建模\n",
    "# 可以从以下五个方面来对网络攻击进行评估，分别是\n",
    "# 1、探测信息\n",
    "# 2、拒绝服务\n",
    "# 3、破坏数据\n",
    "# 4、对抗防御\n",
    "# 5、入侵控制\n",
    "###########################################\n",
    "\n",
    "import numpy as np\n",
    "from copy import deepcopy\n",
    "import operator\n",
    "\n",
    "n = 5\n",
    "\n",
    "###############################\n",
    "# 以下是六位专家给出的对比矩阵\n",
    "###############################\n",
    "\n",
    "A = np.round([[1,1,4,5,2],[1,1,6,7,2],[1/4,1/6,1,1/2,1/5],[1/5,1/7,2,1,1/6],[1/2,1/2,5,6,1]],decimals=3)\n",
    "B = np.round([[1,1/7,1/3,1/5,1/2],[7,1,6,3,4],[3,1/6,1,1/3,1/3],[5,1/3,3,1,3],[2,1/4,3,1/3,1]],decimals=3)\n",
    "C = np.round([[1,1/9,1/3,1/7,1/3],[9,1,7,3,4],[3,1/7,1,1/5,1/2],[7,1/3,5,1,2],[1/3,1/4,2,1/2,1]],decimals=3)\n",
    "D = np.round([[1,1/9,1/4,1/7,1/2],[9,1,8,3,7],[4,1/8,1,1/5,1],[7,1/3,5,1,3],[2,1/7,1,1/3,1]],decimals=3)\n",
    "E = np.round([[1,1/9,1/3,1/7,1/3],[9,1,7,3,4],[3,1/7,1,1/5,1/2],[6,1/3,5,1,2],[3,1/4,2,1/2,1]],decimals=3)\n",
    "F = np.round([[1,1/9,1/3,1/6,1/3],[9,1,7,3,4],[3,1/7,1,1/5,1/2],[6,1/3,5,1,2],[1/3,1/4,2,1/2,1]],decimals=3)\n",
    "\n",
    "expert_opinion = [A,B,C,D,E,F]\n",
    "expert_opinion_origin = deepcopy(expert_opinion)\n",
    "expert_name = ['A','B','C','D','E','F']\n"
   ]
  },
  {
   "cell_type": "code",
   "execution_count": 2,
   "metadata": {
    "ExecuteTime": {
     "end_time": "2020-09-04T03:06:46.752984Z",
     "start_time": "2020-09-04T03:06:46.748550Z"
    }
   },
   "outputs": [],
   "source": [
    "#############################\n",
    "# 将特征矩阵的每一列进行归一化操作\n",
    "#############################\n",
    "for i in range(len(expert_opinion)):\n",
    "    columns_sum = np.cumsum(expert_opinion[i],axis=0)[n-1]\n",
    "    for row in range(len(expert_opinion[i])):\n",
    "        expert_opinion[i][row] = expert_opinion[i][row] / columns_sum"
   ]
  },
  {
   "cell_type": "code",
   "execution_count": 3,
   "metadata": {
    "ExecuteTime": {
     "end_time": "2020-09-04T03:06:47.420173Z",
     "start_time": "2020-09-04T03:06:47.407792Z"
    }
   },
   "outputs": [
    {
     "data": {
      "text/plain": [
       "[array([0.30922702, 0.35196206, 0.05252754, 0.06243911, 0.22384428]),\n",
       " array([0.05075602, 0.48730645, 0.08720437, 0.24476754, 0.12996562]),\n",
       " array([0.04067264, 0.51472769, 0.07914715, 0.26268988, 0.10276264]),\n",
       " array([0.03905797, 0.54031613, 0.08705449, 0.2561168 , 0.07745461]),\n",
       " array([0.03992732, 0.50801983, 0.0769112 , 0.24838175, 0.1267599 ]),\n",
       " array([0.04213853, 0.51869578, 0.08063276, 0.25570269, 0.10283024])]"
      ]
     },
     "execution_count": 3,
     "metadata": {},
     "output_type": "execute_result"
    }
   ],
   "source": [
    "####################################\n",
    "# 分别对每一个专家给出的对比矩阵计算权向量\n",
    "####################################\n",
    "expert_vector = []\n",
    "for e in expert_opinion:\n",
    "    row_sum = np.cumsum(e,axis=1)[:,n-1]\n",
    "    expert_vector.append(row_sum / n)\n",
    "    \n",
    "expert_vector"
   ]
  },
  {
   "cell_type": "code",
   "execution_count": 4,
   "metadata": {
    "ExecuteTime": {
     "end_time": "2020-09-04T03:06:47.947873Z",
     "start_time": "2020-09-04T03:06:47.941401Z"
    }
   },
   "outputs": [
    {
     "data": {
      "text/plain": [
       "[array([[1.   , 1.   , 4.   , 5.   , 2.   ],\n",
       "        [1.   , 1.   , 6.   , 7.   , 2.   ],\n",
       "        [0.25 , 0.167, 1.   , 0.5  , 0.2  ],\n",
       "        [0.2  , 0.143, 2.   , 1.   , 0.167],\n",
       "        [0.5  , 0.5  , 5.   , 6.   , 1.   ]]),\n",
       " array([[1.   , 0.143, 0.333, 0.2  , 0.5  ],\n",
       "        [7.   , 1.   , 6.   , 3.   , 4.   ],\n",
       "        [3.   , 0.167, 1.   , 0.333, 0.333],\n",
       "        [5.   , 0.333, 3.   , 1.   , 3.   ],\n",
       "        [2.   , 0.25 , 3.   , 0.333, 1.   ]]),\n",
       " array([[1.   , 0.111, 0.333, 0.143, 0.333],\n",
       "        [9.   , 1.   , 7.   , 3.   , 4.   ],\n",
       "        [3.   , 0.143, 1.   , 0.2  , 0.5  ],\n",
       "        [7.   , 0.333, 5.   , 1.   , 2.   ],\n",
       "        [0.333, 0.25 , 2.   , 0.5  , 1.   ]]),\n",
       " array([[1.   , 0.111, 0.25 , 0.143, 0.5  ],\n",
       "        [9.   , 1.   , 8.   , 3.   , 7.   ],\n",
       "        [4.   , 0.125, 1.   , 0.2  , 1.   ],\n",
       "        [7.   , 0.333, 5.   , 1.   , 3.   ],\n",
       "        [2.   , 0.143, 1.   , 0.333, 1.   ]]),\n",
       " array([[1.   , 0.111, 0.333, 0.143, 0.333],\n",
       "        [9.   , 1.   , 7.   , 3.   , 4.   ],\n",
       "        [3.   , 0.143, 1.   , 0.2  , 0.5  ],\n",
       "        [6.   , 0.333, 5.   , 1.   , 2.   ],\n",
       "        [3.   , 0.25 , 2.   , 0.5  , 1.   ]]),\n",
       " array([[1.   , 0.111, 0.333, 0.167, 0.333],\n",
       "        [9.   , 1.   , 7.   , 3.   , 4.   ],\n",
       "        [3.   , 0.143, 1.   , 0.2  , 0.5  ],\n",
       "        [6.   , 0.333, 5.   , 1.   , 2.   ],\n",
       "        [0.333, 0.25 , 2.   , 0.5  , 1.   ]])]"
      ]
     },
     "execution_count": 4,
     "metadata": {},
     "output_type": "execute_result"
    }
   ],
   "source": [
    "expert_opinion_origin"
   ]
  },
  {
   "cell_type": "code",
   "execution_count": 5,
   "metadata": {
    "ExecuteTime": {
     "end_time": "2020-09-04T03:06:48.438460Z",
     "start_time": "2020-09-04T03:06:48.428999Z"
    }
   },
   "outputs": [
    {
     "name": "stdout",
     "output_type": "stream",
     "text": [
      "Aw:  [array([1.63118333, 1.86111663, 0.26460037, 0.31705216, 1.19171117]), array([0.26341621, 2.6199899 , 0.44563874, 1.31233065, 0.69642497]), array([0.19594803, 2.63393169, 0.37869043, 1.3200637 , 0.53462779]), array([0.19614869, 2.89880642, 0.43950385, 1.37708412, 0.40517714]), array([0.19965859, 2.65792895, 0.3823963 , 1.29519207, 0.65156009]), array([0.20350929, 2.6408009 , 0.38377751, 1.29008385, 0.53565318])]\n",
      "answer_max:  [5.20037091 5.27933513 4.98943791 5.20871044 5.11180871 4.98693732]\n",
      "CIRI:  [ 0.04472565  0.06235159 -0.00235761  0.04658715  0.0249573  -0.00291578]\n"
     ]
    }
   ],
   "source": [
    "###########\n",
    "# 一致性检验\n",
    "###########\n",
    "RI = {2:0,3:0.58,4:0.90,5:1.12,6:1.24,7:1.32,8:1.41,9:1.45}\n",
    "Aw = []\n",
    "for index in range(len(expert_opinion_origin)):\n",
    "    Aw.append(expert_opinion_origin[index] @ expert_vector[index])\n",
    "print('Aw: ',Aw)\n",
    "answer_max = []\n",
    "for index in range(len(Aw)):\n",
    "    answer_max.append(np.sum(Aw[index] / expert_vector[index]) / n)\n",
    "answer_max = np.array(answer_max)\n",
    "print('answer_max: ',answer_max)\n",
    "CI = (answer_max - n) / (n - 1)\n",
    "CIRI = CI/RI[n]\n",
    "#########################################################\n",
    "# 可以看出，每个专家的一致性检验的结果都低于0.1，在可以接受的范围内\n",
    "#########################################################\n",
    "print(\"CIRI: \",CIRI)"
   ]
  },
  {
   "cell_type": "code",
   "execution_count": 6,
   "metadata": {
    "ExecuteTime": {
     "end_time": "2020-09-04T03:06:49.221224Z",
     "start_time": "2020-09-04T03:06:49.000615Z"
    }
   },
   "outputs": [],
   "source": [
    "############\n",
    "# 结果展示\n",
    "############\n",
    "\n",
    "import pandas as pd\n",
    "\n",
    "df = pd.DataFrame(expert_vector,columns=['w1','w2','w3','w4','w5'],index=['A','B','C','D','E','F'])\n",
    "df['CI'] = CI\n",
    "df['CI/RI'] = CIRI\n",
    "df['一致性'] = df['CI/RI'].map(lambda x: x < 0.1)"
   ]
  },
  {
   "cell_type": "code",
   "execution_count": 7,
   "metadata": {
    "ExecuteTime": {
     "end_time": "2020-09-04T03:06:49.987387Z",
     "start_time": "2020-09-04T03:06:49.972063Z"
    }
   },
   "outputs": [
    {
     "data": {
      "text/html": [
       "<div>\n",
       "<style scoped>\n",
       "    .dataframe tbody tr th:only-of-type {\n",
       "        vertical-align: middle;\n",
       "    }\n",
       "\n",
       "    .dataframe tbody tr th {\n",
       "        vertical-align: top;\n",
       "    }\n",
       "\n",
       "    .dataframe thead th {\n",
       "        text-align: right;\n",
       "    }\n",
       "</style>\n",
       "<table border=\"1\" class=\"dataframe\">\n",
       "  <thead>\n",
       "    <tr style=\"text-align: right;\">\n",
       "      <th></th>\n",
       "      <th>w1</th>\n",
       "      <th>w2</th>\n",
       "      <th>w3</th>\n",
       "      <th>w4</th>\n",
       "      <th>w5</th>\n",
       "      <th>CI</th>\n",
       "      <th>CI/RI</th>\n",
       "      <th>一致性</th>\n",
       "    </tr>\n",
       "  </thead>\n",
       "  <tbody>\n",
       "    <tr>\n",
       "      <th>A</th>\n",
       "      <td>0.309227</td>\n",
       "      <td>0.351962</td>\n",
       "      <td>0.052528</td>\n",
       "      <td>0.062439</td>\n",
       "      <td>0.223844</td>\n",
       "      <td>0.050093</td>\n",
       "      <td>0.044726</td>\n",
       "      <td>True</td>\n",
       "    </tr>\n",
       "    <tr>\n",
       "      <th>B</th>\n",
       "      <td>0.050756</td>\n",
       "      <td>0.487306</td>\n",
       "      <td>0.087204</td>\n",
       "      <td>0.244768</td>\n",
       "      <td>0.129966</td>\n",
       "      <td>0.069834</td>\n",
       "      <td>0.062352</td>\n",
       "      <td>True</td>\n",
       "    </tr>\n",
       "    <tr>\n",
       "      <th>C</th>\n",
       "      <td>0.040673</td>\n",
       "      <td>0.514728</td>\n",
       "      <td>0.079147</td>\n",
       "      <td>0.262690</td>\n",
       "      <td>0.102763</td>\n",
       "      <td>-0.002641</td>\n",
       "      <td>-0.002358</td>\n",
       "      <td>True</td>\n",
       "    </tr>\n",
       "    <tr>\n",
       "      <th>D</th>\n",
       "      <td>0.039058</td>\n",
       "      <td>0.540316</td>\n",
       "      <td>0.087054</td>\n",
       "      <td>0.256117</td>\n",
       "      <td>0.077455</td>\n",
       "      <td>0.052178</td>\n",
       "      <td>0.046587</td>\n",
       "      <td>True</td>\n",
       "    </tr>\n",
       "    <tr>\n",
       "      <th>E</th>\n",
       "      <td>0.039927</td>\n",
       "      <td>0.508020</td>\n",
       "      <td>0.076911</td>\n",
       "      <td>0.248382</td>\n",
       "      <td>0.126760</td>\n",
       "      <td>0.027952</td>\n",
       "      <td>0.024957</td>\n",
       "      <td>True</td>\n",
       "    </tr>\n",
       "    <tr>\n",
       "      <th>F</th>\n",
       "      <td>0.042139</td>\n",
       "      <td>0.518696</td>\n",
       "      <td>0.080633</td>\n",
       "      <td>0.255703</td>\n",
       "      <td>0.102830</td>\n",
       "      <td>-0.003266</td>\n",
       "      <td>-0.002916</td>\n",
       "      <td>True</td>\n",
       "    </tr>\n",
       "  </tbody>\n",
       "</table>\n",
       "</div>"
      ],
      "text/plain": [
       "         w1        w2        w3        w4        w5        CI     CI/RI   一致性\n",
       "A  0.309227  0.351962  0.052528  0.062439  0.223844  0.050093  0.044726  True\n",
       "B  0.050756  0.487306  0.087204  0.244768  0.129966  0.069834  0.062352  True\n",
       "C  0.040673  0.514728  0.079147  0.262690  0.102763 -0.002641 -0.002358  True\n",
       "D  0.039058  0.540316  0.087054  0.256117  0.077455  0.052178  0.046587  True\n",
       "E  0.039927  0.508020  0.076911  0.248382  0.126760  0.027952  0.024957  True\n",
       "F  0.042139  0.518696  0.080633  0.255703  0.102830 -0.003266 -0.002916  True"
      ]
     },
     "execution_count": 7,
     "metadata": {},
     "output_type": "execute_result"
    }
   ],
   "source": [
    "df\n",
    "##############################################\n",
    "# 如果有专家意见的一致性不符合要求，需要重新写对比矩阵\n",
    "##############################################"
   ]
  },
  {
   "cell_type": "code",
   "execution_count": 8,
   "metadata": {
    "ExecuteTime": {
     "end_time": "2020-09-04T03:06:59.753119Z",
     "start_time": "2020-09-04T03:06:59.740844Z"
    }
   },
   "outputs": [
    {
     "name": "stdout",
     "output_type": "stream",
     "text": [
      "['w1', 'w2', 'w3', 'w4', 'w5']\n",
      "{'A': 'w2>w1>w5>w4>w3', 'B': 'w2>w4>w5>w3>w1', 'C': 'w2>w4>w5>w3>w1', 'D': 'w2>w4>w3>w5>w1', 'E': 'w2>w4>w5>w3>w1', 'F': 'w2>w4>w5>w3>w1'}\n"
     ]
    }
   ],
   "source": [
    "#######################\n",
    "# 获得每个专家的权重排序\n",
    "#######################\n",
    "columns_name = []\n",
    "for i in range(1,n + 1):\n",
    "    columns_name.append('w' + str(i))\n",
    "print(columns_name)\n",
    "\n",
    "expert_res = {}\n",
    "for expert in expert_name:\n",
    "    tmp = []\n",
    "    for i in sorted(df.loc[expert,columns_name].to_dict().items(),key=operator.itemgetter(1),reverse=True):\n",
    "        tmp.append(i[0])\n",
    "    expert_res[expert] = '>'.join(tmp)\n",
    "print(expert_res)"
   ]
  },
  {
   "cell_type": "code",
   "execution_count": 9,
   "metadata": {
    "ExecuteTime": {
     "end_time": "2020-09-04T03:07:00.337565Z",
     "start_time": "2020-09-04T03:07:00.330418Z"
    }
   },
   "outputs": [
    {
     "name": "stdout",
     "output_type": "stream",
     "text": [
      "w2>w4>w5>w3>w1\n"
     ]
    },
    {
     "data": {
      "text/plain": [
       "['B', 'C', 'E', 'F']"
      ]
     },
     "execution_count": 9,
     "metadata": {},
     "output_type": "execute_result"
    }
   ],
   "source": [
    "##################################################\n",
    "# 在专家意见中取出最一致的答案，并取出给出相对应意见的专家\n",
    "##################################################\n",
    "from collections import Counter\n",
    "res = sorted(Counter(expert_res.values()).items(),key=operator.itemgetter(1),reverse=True)[0][0]\n",
    "print(res)\n",
    "choosed_expert = []\n",
    "for key,value in expert_res.items():\n",
    "    if value == res:\n",
    "        choosed_expert.append(key)\n",
    "choosed_expert"
   ]
  },
  {
   "cell_type": "code",
   "execution_count": 10,
   "metadata": {
    "ExecuteTime": {
     "end_time": "2020-09-04T03:07:01.858981Z",
     "start_time": "2020-09-04T03:07:01.849186Z"
    }
   },
   "outputs": [
    {
     "data": {
      "text/plain": [
       "[0.04317028080130074,\n",
       " 0.5070412231731407,\n",
       " 0.08088512363642572,\n",
       " 0.2527918304529095,\n",
       " 0.11486603138637902]"
      ]
     },
     "execution_count": 10,
     "metadata": {},
     "output_type": "execute_result"
    }
   ],
   "source": [
    "#############\n",
    "# 最终结果如下\n",
    "#############\n",
    "final_res = []\n",
    "for cname in columns_name:\n",
    "    final_res.append(np.power(np.prod(df.loc[choosed_expert,cname]),1/len(choosed_expert)))\n",
    "final_res"
   ]
  },
  {
   "cell_type": "code",
   "execution_count": 11,
   "metadata": {
    "ExecuteTime": {
     "end_time": "2020-09-04T03:07:03.077433Z",
     "start_time": "2020-09-04T03:07:03.072668Z"
    }
   },
   "outputs": [
    {
     "name": "stdout",
     "output_type": "stream",
     "text": [
      "bt_threshold:  [0.5070412231731407, 0.08088512363642572, 0.2527918304529095, 0.11486603138637902]\n",
      "lt_threshold:  [0.04317028080130074]\n"
     ]
    }
   ],
   "source": [
    "########################################################\n",
    "# 最后一步的最后一步（可选），设定一个阈值a，对得到的权重进行筛选。\n",
    "# 如果w > a,则保留该属性，否则删除.\n",
    "# 将忽略的属性权重求和，平均分配到各个保留属性系数上\n",
    "########################################################\n",
    "threshold = 0.05\n",
    "bt_threshold = []\n",
    "lt_threshold = []\n",
    "for r in final_res:\n",
    "    if r >= threshold:\n",
    "        bt_threshold.append(r)\n",
    "    else:\n",
    "        lt_threshold.append(r)\n",
    "print('bt_threshold: ',bt_threshold)\n",
    "print('lt_threshold: ',lt_threshold)"
   ]
  },
  {
   "cell_type": "code",
   "execution_count": 12,
   "metadata": {
    "ExecuteTime": {
     "end_time": "2020-09-04T03:07:04.247156Z",
     "start_time": "2020-09-04T03:07:04.243629Z"
    }
   },
   "outputs": [
    {
     "name": "stdout",
     "output_type": "stream",
     "text": [
      "bt_threshold:  [0.5178337933734659, 0.09167769383675091, 0.2635844006532347, 0.1256586015867042]\n"
     ]
    }
   ],
   "source": [
    "for index in range(len(bt_threshold)):\n",
    "    bt_threshold[index] += sum(lt_threshold) / len(bt_threshold)\n",
    "print('bt_threshold: ',bt_threshold)"
   ]
  },
  {
   "cell_type": "code",
   "execution_count": null,
   "metadata": {},
   "outputs": [],
   "source": []
  }
 ],
 "metadata": {
  "hide_input": false,
  "kernelspec": {
   "display_name": "Python 3",
   "language": "python",
   "name": "python3"
  },
  "language_info": {
   "codemirror_mode": {
    "name": "ipython",
    "version": 3
   },
   "file_extension": ".py",
   "mimetype": "text/x-python",
   "name": "python",
   "nbconvert_exporter": "python",
   "pygments_lexer": "ipython3",
   "version": "3.7.6"
  },
  "toc": {
   "base_numbering": 1,
   "nav_menu": {},
   "number_sections": true,
   "sideBar": true,
   "skip_h1_title": false,
   "title_cell": "Table of Contents",
   "title_sidebar": "Contents",
   "toc_cell": false,
   "toc_position": {},
   "toc_section_display": true,
   "toc_window_display": false
  },
  "varInspector": {
   "cols": {
    "lenName": 16,
    "lenType": 16,
    "lenVar": 40
   },
   "kernels_config": {
    "python": {
     "delete_cmd_postfix": "",
     "delete_cmd_prefix": "del ",
     "library": "var_list.py",
     "varRefreshCmd": "print(var_dic_list())"
    },
    "r": {
     "delete_cmd_postfix": ") ",
     "delete_cmd_prefix": "rm(",
     "library": "var_list.r",
     "varRefreshCmd": "cat(var_dic_list()) "
    }
   },
   "types_to_exclude": [
    "module",
    "function",
    "builtin_function_or_method",
    "instance",
    "_Feature"
   ],
   "window_display": false
  }
 },
 "nbformat": 4,
 "nbformat_minor": 4
}
